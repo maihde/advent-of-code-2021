{
 "cells": [
  {
   "cell_type": "markdown",
   "metadata": {},
   "source": [
    "# Day 1\n",
    "Demonstrate solving this problem using Python functional-style programming rather than just loops"
   ]
  },
  {
   "cell_type": "code",
   "execution_count": 27,
   "metadata": {},
   "outputs": [],
   "source": [
    "# Run this cell to solve the actual problem\n",
    "with open(\"../dat/day1.txt\") as f:\n",
    "    lines = f.readlines()"
   ]
  },
  {
   "cell_type": "code",
   "execution_count": 25,
   "metadata": {},
   "outputs": [],
   "source": [
    "lines = [\n",
    "    \"199\",\n",
    "    \"200\",\n",
    "    \"208\",\n",
    "    \"210\",\n",
    "    \"200\",\n",
    "    \"207\",\n",
    "    \"240\",\n",
    "    \"269\",\n",
    "    \"260\",\n",
    "    \"263\",\n",
    "]"
   ]
  },
  {
   "cell_type": "code",
   "execution_count": 28,
   "metadata": {},
   "outputs": [],
   "source": [
    "def pairwise(iterable): # itertools.pairwise is not available until version 3.10+\n",
    "    iterator = iter(iterable)\n",
    "    try:\n",
    "        first = next(iterator)\n",
    "        second = next(iterator)\n",
    "        while second != None:\n",
    "            yield first, second\n",
    "            first = second\n",
    "            second = next(iterator)\n",
    "    except StopIteration:\n",
    "        pass\n",
    "\n",
    "def triplets(iterable): # itertools.pairwise is not available until version 3.10+\n",
    "    iterator = iter(iterable)\n",
    "    try:\n",
    "        first = next(iterator)\n",
    "        second = next(iterator)\n",
    "        third = next(iterator)\n",
    "        while third != None:\n",
    "            yield first, second, third\n",
    "            first = second\n",
    "            second = third\n",
    "            third = next(iterator)\n",
    "    except StopIteration:\n",
    "        pass"
   ]
  },
  {
   "cell_type": "code",
   "execution_count": 29,
   "metadata": {},
   "outputs": [
    {
     "name": "stdout",
     "output_type": "stream",
     "text": [
      "Part 1 1448\n",
      "Part 2 1471\n"
     ]
    }
   ],
   "source": [
    "depth_increases = 0\n",
    "for xx, yy in pairwise(map(int, lines)):\n",
    "    if yy > xx:\n",
    "        depth_increases += 1\n",
    "print(\"Part 1\", depth_increases)\n",
    "\n",
    "depth_increases = 0\n",
    "for xx, yy in pairwise(map(sum, triplets(map(int, lines)))):\n",
    "    if int(yy) > int(xx):\n",
    "        depth_increases += 1\n",
    "print(\"Part 2\", depth_increases)"
   ]
  }
 ],
 "metadata": {
  "interpreter": {
   "hash": "e800e88b5213248bce043b8ca1d9eeecab934fe1261eaa09a236f6d22060b375"
  },
  "kernelspec": {
   "display_name": "Python 3.7.6 64-bit ('base': conda)",
   "name": "python3"
  },
  "language_info": {
   "codemirror_mode": {
    "name": "ipython",
    "version": 3
   },
   "file_extension": ".py",
   "mimetype": "text/x-python",
   "name": "python",
   "nbconvert_exporter": "python",
   "pygments_lexer": "ipython3",
   "version": "3.7.6"
  },
  "orig_nbformat": 4
 },
 "nbformat": 4,
 "nbformat_minor": 2
}
