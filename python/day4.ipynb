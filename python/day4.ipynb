{
 "cells": [
  {
   "cell_type": "markdown",
   "metadata": {},
   "source": [
    "# Day 4\n",
    "Demonstrate list comprehensions, object properties, and bitset.  The use of bitsets is common in chess applications because it allows quick checks using bitwise operations rather than looping."
   ]
  },
  {
   "cell_type": "code",
   "execution_count": 108,
   "metadata": {},
   "outputs": [],
   "source": [
    "class Board():\n",
    "    def __init__(self):\n",
    "        self.rows = []\n",
    "        self.marks = 0\n",
    "    \n",
    "    def reset(self):\n",
    "        self.marks = 0\n",
    "        \n",
    "    @property\n",
    "    def num_rows(self):\n",
    "        return len(self.rows)\n",
    "\n",
    "    @property\n",
    "    def marked(self):\n",
    "        result = []\n",
    "        for row in range(5):\n",
    "            for col in range(5):\n",
    "                if self.is_marked(row, col):\n",
    "                    result.append( self.rows[row][col] )\n",
    "        return result\n",
    "\n",
    "    @property\n",
    "    def unmarked(self):\n",
    "        result = []\n",
    "        for row in range(5):\n",
    "            for col in range(5):\n",
    "                if not self.is_marked(row, col):\n",
    "                    result.append( self.rows[row][col] )\n",
    "        return result\n",
    "\n",
    "    @property\n",
    "    def wins(self):\n",
    "        row_check = int('11111', 2)\n",
    "        for rr in range(5):\n",
    "            if self.marks & row_check == row_check:\n",
    "                return True\n",
    "            row_check <<= 5\n",
    "\n",
    "        col_check = int('0000100001000010000100001', 2)\n",
    "        for cc in range(5):\n",
    "            if self.marks & col_check == col_check:\n",
    "                return True\n",
    "            col_check <<= 1\n",
    "\n",
    "        \"\"\"\n",
    "        AOC doesn't want diagonal  wins\n",
    "        \"\"\"\n",
    "        #diag_check = int('1000001000001000001000001', 2)\n",
    "        #if self.marks & diag_check == diag_check:\n",
    "        #        return True\n",
    "\n",
    "        #diag_check = int('0000100010001000100010000', 2)\n",
    "        #if self.marks & diag_check == diag_check:\n",
    "        #        return True\n",
    "\n",
    "        return False\n",
    "\n",
    "    def add_row(self, row):\n",
    "        self.rows.append(row)\n",
    "\n",
    "    def mark(self, row, col):\n",
    "        self.marks |= (0x01 << ((row * 5) + col))\n",
    "\n",
    "    def is_marked(self, row, col):\n",
    "        return (self.marks & (0x01 << ((row * 5) + col)) != 0)\n",
    "        \n",
    "    def __str__(self):\n",
    "        result = \"\"\n",
    "        for row, row_v in enumerate(self.rows):\n",
    "            for col, col_v in enumerate(row_v):\n",
    "                result += \"%02d \" % col_v\n",
    "            result += \"\\n\"\n",
    "            for col in range(5):\n",
    "                if self.is_marked(row, col):\n",
    "                    result += \"^^ \"\n",
    "                else:\n",
    "                    result += \"   \"\n",
    "            result += \"\\n\"\n",
    "        return result\n",
    "\n",
    "    def mark_draw(self, draw):\n",
    "        for row, row_v in enumerate(self.rows):\n",
    "            for col, col_v in enumerate(row_v):\n",
    "                if col_v == draw:\n",
    "                    self.mark(row, col)\n"
   ]
  },
  {
   "cell_type": "code",
   "execution_count": 119,
   "metadata": {},
   "outputs": [
    {
     "name": "stdout",
     "output_type": "stream",
     "text": [
      "loaded 100 draws 100 boards\n"
     ]
    }
   ],
   "source": [
    "with open(\"../dat/day4.txt\") as f:\n",
    "    draws = None\n",
    "    boards = []\n",
    "    board = None\n",
    "\n",
    "    for line in f:\n",
    "        if draws is None and line.strip() != \"\":\n",
    "            draws = [ int(x) for x in line.split(\",\") ]\n",
    "        elif line.strip() != \"\":\n",
    "            if board is None:\n",
    "                board = Board()\n",
    "            board.add_row([ int(x) for x in  line.split() ])\n",
    "            if board.num_rows == 5:\n",
    "                boards.append(board)\n",
    "                board = None\n",
    "      \n",
    "print(\"loaded\", len(draws), \"draws\", len(boards), \"boards\")"
   ]
  },
  {
   "cell_type": "code",
   "execution_count": 120,
   "metadata": {},
   "outputs": [
    {
     "name": "stdout",
     "output_type": "stream",
     "text": [
      "26 89 27 47 91 \n",
      "            ^^ \n",
      "15 09 18 62 28 \n",
      "               \n",
      "31 96 42 81 86 \n",
      "^^ ^^ ^^ ^^ ^^ \n",
      "11 52 20 93 38 \n",
      "               \n",
      "83 64 39 01 60 \n",
      "               \n",
      "\n",
      "[26, 89, 27, 47, 15, 9, 18, 62, 28, 11, 52, 20, 93, 38, 83, 64, 39, 1, 60]\n",
      "32844\n"
     ]
    }
   ],
   "source": [
    "# Part 1\n",
    "for board in boards:\n",
    "    board.reset()\n",
    "    \n",
    "for draw in draws:\n",
    "    wins = None\n",
    "    for ii, board in enumerate(boards):\n",
    "        board.mark_draw(draw)\n",
    "        if board.wins:\n",
    "            wins = board\n",
    "            break\n",
    "    if wins:\n",
    "        break\n",
    "\n",
    "print(wins)\n",
    "print(wins.unmarked)\n",
    "print(sum(wins.unmarked) * draw)"
   ]
  },
  {
   "cell_type": "code",
   "execution_count": 122,
   "metadata": {},
   "outputs": [
    {
     "name": "stdout",
     "output_type": "stream",
     "text": [
      "85 64 44 39 57 \n",
      "^^ ^^    ^^ ^^ \n",
      "90 30 15 35 54 \n",
      "^^    ^^ ^^ ^^ \n",
      "78 89 55 99 12 \n",
      "^^ ^^ ^^    ^^ \n",
      "80 96 20 50 45 \n",
      "^^ ^^ ^^ ^^ ^^ \n",
      "56 10 71 59 17 \n",
      "   ^^ ^^ ^^    \n",
      "\n",
      "[44, 30, 99, 56, 17] 20\n",
      "4920\n"
     ]
    }
   ],
   "source": [
    "# Part 2\n",
    "for board in boards:\n",
    "    board.reset()\n",
    "\n",
    "new_boards = list(boards)\n",
    "result = None\n",
    "for draw in draws:\n",
    "    for ii in range(len(new_boards)-1, -1, -1):\n",
    "        board = new_boards[ii]\n",
    "        if not board.wins:\n",
    "            board.mark_draw(draw)\n",
    "        if board.wins:\n",
    "            if len(new_boards) > 1:\n",
    "                del new_boards[ii]\n",
    "            else:\n",
    "                result = board\n",
    "                break\n",
    "    if result != None:\n",
    "        break\n",
    "        \n",
    "    \n",
    "\n",
    "print(result)\n",
    "print(result.unmarked, draw)\n",
    "print(sum(result.unmarked) * draw)"
   ]
  }
 ],
 "metadata": {
  "interpreter": {
   "hash": "e800e88b5213248bce043b8ca1d9eeecab934fe1261eaa09a236f6d22060b375"
  },
  "kernelspec": {
   "display_name": "Python 3.7.6 64-bit ('base': conda)",
   "language": "python",
   "name": "python3"
  },
  "language_info": {
   "codemirror_mode": {
    "name": "ipython",
    "version": 3
   },
   "file_extension": ".py",
   "mimetype": "text/x-python",
   "name": "python",
   "nbconvert_exporter": "python",
   "pygments_lexer": "ipython3",
   "version": "3.7.6"
  },
  "orig_nbformat": 4
 },
 "nbformat": 4,
 "nbformat_minor": 2
}
