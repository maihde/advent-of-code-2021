{
 "cells": [
  {
   "cell_type": "code",
   "execution_count": 2,
   "metadata": {},
   "outputs": [],
   "source": [
    "def load(fname):\n",
    "    rules = []\n",
    "    with open(fname) as f:\n",
    "        template = f.readline().strip()\n",
    "        for ll in f:\n",
    "            if ll.strip() == \"\":\n",
    "                continue\n",
    "            rule = [ x.strip() for x in ll.split(\"->\") ]\n",
    "            rules.append(rule)\n",
    "    rules = dict(rules)\n",
    "    return template, rules\n",
    "\n",
    "template, rules = load(\"../dat/day14.txt\")\n",
    "\n",
    "def pairwise(iterable): # itertools.pairwise is not available until version 3.10+\n",
    "    iterator = iter(iterable)\n",
    "    try:\n",
    "        first = next(iterator)\n",
    "        second = next(iterator)\n",
    "        while second != None:\n",
    "            yield first, second\n",
    "            first = second\n",
    "            second = next(iterator)\n",
    "    except StopIteration:\n",
    "        pass"
   ]
  },
  {
   "cell_type": "code",
   "execution_count": 31,
   "metadata": {},
   "outputs": [
    {
     "name": "stdout",
     "output_type": "stream",
     "text": [
      "1588\n"
     ]
    }
   ],
   "source": [
    "def iterate(template, steps):\n",
    "    \"\"\"\n",
    "    Brute force method that will run out of memory if 'steps' becomes large.\n",
    "    \"\"\"\n",
    "    for ss in range(steps):\n",
    "        template = list(template)\n",
    "        for ii in range(len(template)-1, 0, -1):\n",
    "            pair = template[ii-1] + template[ii]\n",
    "            insertion = rules.get(pair)\n",
    "            if insertion:\n",
    "                template.insert(ii, insertion)\n",
    "    return \"\".join(template)\n",
    "\n",
    "result = iterate(template, 10)\n",
    "\n",
    "ans = {}\n",
    "for xx in result:\n",
    "    ans[xx] = ans.get(xx, 0) + 1\n",
    "\n",
    "min = (None, None)\n",
    "max = (None, None)\n",
    "for kk, vv  in ans.items():\n",
    "    if min[1] is None or vv < min[1]:\n",
    "        min = (kk, vv)\n",
    "    if max[1] is None or vv > max[1]:\n",
    "        max = (kk, vv)\n",
    "print(max[1] - min[1])\n",
    "\n"
   ]
  },
  {
   "cell_type": "code",
   "execution_count": 3,
   "metadata": {},
   "outputs": [
    {
     "name": "stdout",
     "output_type": "stream",
     "text": [
      "{'SC': 263527104535, 'CS': 159303063884, 'SK': 90076225949, 'KK': 41691911658, 'KV': 83332905561, 'VV': 0, 'VB': 110480333639, 'BK': 0, 'VF': 31600332650, 'FK': 0, 'KS': 48926400672, 'CC': 79770625671, 'SO': 68742870860, 'OV': 88660129642, 'SN': 435173046053, 'NC': 480893935966, 'CP': 159455754514, 'PS': 343212233378, 'SP': 79364803989, 'PK': 301486424513, 'KP': 345954490119, 'VH': 44433226782, 'HV': 83242098740, 'BB': 210491866609, 'BO': 160401575194, 'OK': 180334390976, 'VS': 15815055118, 'SF': 342371854625, 'FN': 0, 'NK': 470908273847, 'KO': 97813570503, 'OS': 122466691340, 'CF': 141270496082, 'FC': 100738720790, 'PO': 1061573856165, 'OF': 1222939018813, 'FV': 89107978972, 'NN': 292683331296, 'NP': 649500167567, 'PC': 526361681250, 'PN': 171814606880, 'NS': 318485069235, 'SH': 39658299388, 'HP': 353172430938, 'CK': 171658110451, 'KN': 293180812015, 'VO': 110371649644, 'OH': 252225824924, 'HK': 41640993903, 'OB': 361001806014, 'BV': 166412641198, 'SS': 171073766500, 'FB': 512120888084, 'BN': 344302331579, 'ON': 273415589094, 'CH': 412019075114, 'HF': 266480622650, 'FF': 95082155472, 'OO': 1139811229503, 'CN': 404656840908, 'HO': 354706827837, 'OP': 176938719224, 'KH': 146630422346, 'HN': 283428774728, 'NH': 126199048610, 'HC': 20831689801, 'KB': 240265818423, 'BH': 83242098740, 'FO': 824371819824, 'BC': 172296121637, 'HH': 537018718302, 'HB': 275189544601, 'BF': 311181649249, 'FH': 305204082526, 'CB': 202514801822, 'VP': 88660129642, 'NF': 63147912455, 'NB': 120003731418, 'FP': 547448396328, 'VC': 86228888796, 'PH': 269080904768, 'BS': 310705691771, 'NV': 63266495503, 'BP': 273034814633, 'VN': 86432633344}\n",
      "{'S': 1489987971899, 'C': 1730648768446, 'K': 1297796331297, 'V': 574022249616, 'B': 2032068790610, 'F': 2474074041996, 'O': 3817793399530, 'N': 2585087965897, 'P': 2673529706954, 'H': 2215711701500}\n",
      "3243771149914\n"
     ]
    }
   ],
   "source": [
    "def xiterate(template, steps):\n",
    "    \"\"\"\n",
    "    \n",
    "    \"\"\"\n",
    "    # convert template into pairs of letters\n",
    "    _template = {}\n",
    "    for pair in pairwise(template):\n",
    "        pair = \"\".join(pair)\n",
    "        _template[pair] = _template.get(pair, 0) + 1\n",
    "\n",
    "    for ss in range(steps):\n",
    "        for tt, cc in list(_template.items()):\n",
    "            insertion = rules.get(tt)\n",
    "            if insertion:\n",
    "                _template[tt[0] + insertion] = _template.get(tt[0] + insertion, 0) + cc\n",
    "                _template[insertion + tt[1]] = _template.get(insertion + tt[1], 0) + cc\n",
    "                _template[tt] -= cc \n",
    "\n",
    "    return _template\n",
    "\n",
    "result = xiterate(template, 40)\n",
    "print(result)\n",
    "\n",
    "ans = {}\n",
    "for kk, vv in result.items():\n",
    "    ans[kk[0]] = ans.get(kk[0], 0) + vv\n",
    "ans[template[-1]] = ans.get(template[-1], 0) + 1\n",
    "print(ans)\n",
    "\n",
    "min = (None, None)\n",
    "max = (None, None)\n",
    "for kk, vv  in ans.items():\n",
    "    if min[1] is None or vv < min[1]:\n",
    "        min = (kk, vv)\n",
    "    if max[1] is None or vv > max[1]:\n",
    "        max = (kk, vv)\n",
    "print(max[1] - min[1])"
   ]
  }
 ],
 "metadata": {
  "interpreter": {
   "hash": "e800e88b5213248bce043b8ca1d9eeecab934fe1261eaa09a236f6d22060b375"
  },
  "kernelspec": {
   "display_name": "Python 3.7.6 64-bit ('base': conda)",
   "language": "python",
   "name": "python3"
  },
  "language_info": {
   "codemirror_mode": {
    "name": "ipython",
    "version": 3
   },
   "file_extension": ".py",
   "mimetype": "text/x-python",
   "name": "python",
   "nbconvert_exporter": "python",
   "pygments_lexer": "ipython3",
   "version": "3.7.6"
  },
  "orig_nbformat": 4
 },
 "nbformat": 4,
 "nbformat_minor": 2
}
