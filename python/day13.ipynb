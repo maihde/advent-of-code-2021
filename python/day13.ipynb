{
 "cells": [
  {
   "cell_type": "code",
   "execution_count": 66,
   "metadata": {},
   "outputs": [],
   "source": [
    "import numpy\n",
    "import scipy\n",
    "import scipy.ndimage\n",
    "import matplotlib.pyplot as plt\n",
    "import queue\n",
    "import re\n",
    "import copy"
   ]
  },
  {
   "cell_type": "code",
   "execution_count": 102,
   "metadata": {},
   "outputs": [],
   "source": [
    "def load():\n",
    "    data = []\n",
    "    folds = []\n",
    "    max_x = 0\n",
    "    max_y = 0\n",
    "    with open(\"../dat/day13.txt\") as f:\n",
    "        for ll in f:\n",
    "            if ll.strip() == \"\":\n",
    "                break\n",
    "            data.append([ int(x) for x in ll.strip().split(\",\") ])\n",
    "            max_x = max(data[-1][0], max_x)\n",
    "            max_y = max(data[-1][1], max_y)\n",
    "\n",
    "        ll = f.readline()\n",
    "        while ll:\n",
    "            match = re.match(\"fold along (\\w)=(\\d+)\", ll)\n",
    "            if match:\n",
    "                fold = match.groups()\n",
    "                folds.append(fold)\n",
    "            ll = f.readline()\n",
    "\n",
    "\n",
    "    return data, folds, (max_y+1, max_x+1)\n",
    "\n",
    "points, folds, shape = load()"
   ]
  },
  {
   "cell_type": "code",
   "execution_count": 103,
   "metadata": {},
   "outputs": [
    {
     "data": {
      "text/plain": [
       "array([[0., 0., 0., ..., 0., 0., 0.],\n",
       "       [0., 0., 0., ..., 0., 0., 0.],\n",
       "       [0., 0., 0., ..., 0., 0., 0.],\n",
       "       ...,\n",
       "       [0., 0., 0., ..., 0., 0., 0.],\n",
       "       [0., 0., 0., ..., 0., 0., 0.],\n",
       "       [0., 0., 0., ..., 0., 0., 0.]])"
      ]
     },
     "execution_count": 103,
     "metadata": {},
     "output_type": "execute_result"
    }
   ],
   "source": [
    "data  = numpy.zeros(shape)\n",
    "for xx, yy in points:\n",
    "    data[yy][xx] = '1'\n",
    "data"
   ]
  },
  {
   "cell_type": "code",
   "execution_count": 108,
   "metadata": {},
   "outputs": [
    {
     "name": "stdout",
     "output_type": "stream",
     "text": [
      "[[ 5.  0.  0. 21.  0.  6.  0.  0.  0.  0.  7.  3.  8.  0.  0.  3.  0.  0.\n",
      "   4.  0.  5.  2. 19.  0.  0.  0.  8.  4.  0.  0.  7.  8.  2. 10.  0.  3.\n",
      "  14.  1.  0.  0.]\n",
      " [ 6.  0.  0. 18.  0.  2.  0.  0.  0.  0.  5.  0.  0. 20.  0. 17.  0.  0.\n",
      "   5.  0.  5.  0.  0.  6.  0.  4.  0.  0. 15.  0.  5.  0.  0.  0.  0. 14.\n",
      "   0.  0. 15.  0.]\n",
      " [12.  3. 12. 13.  0. 15.  0.  0.  0.  0.  9.  4.  4.  0.  0. 13.  0.  0.\n",
      "   9.  0. 10. 16. 16.  0.  0. 12.  0.  0.  0.  0.  4. 12.  1.  0.  0.  8.\n",
      "   0.  0. 34.  0.]\n",
      " [17.  0.  0. 19.  0.  4.  0.  0.  0.  0.  5.  0.  0.  4.  0.  1.  0.  0.\n",
      "   3.  0. 19.  0.  0.  5.  0.  5.  0.  1. 18.  0.  4.  0.  0.  0.  0.  1.\n",
      "   9. 10.  0.  0.]\n",
      " [12.  0.  0. 19.  0. 13.  0.  0.  0.  0.  2.  0.  0.  6.  0.  4.  0.  0.\n",
      "   1.  0. 27.  0.  0. 21.  0. 12.  0.  0.  3.  0. 17.  0.  0.  0.  0.  8.\n",
      "   0. 20.  0.  0.]\n",
      " [ 5.  0.  0.  2.  0.  1. 28.  8. 15.  0.  6.  5. 30.  0.  0.  0.  8.  8.\n",
      "   0.  0.  3.  6.  2.  0.  0.  0.  9. 13. 16.  0. 39.  0.  0.  0.  0.  2.\n",
      "   0.  0.  3.  0.]]\n",
      "103\n",
      "\n",
      "#  # #    ###  #  # ###   ##  #### ###  \n",
      "#  # #    #  # #  # #  # #  # #    #  # \n",
      "#### #    ###  #  # ###  #    ###  #  # \n",
      "#  # #    #  # #  # #  # # ## #    ###  \n",
      "#  # #    #  # #  # #  # #  # #    # #  \n",
      "#  # #### ###   ##  ###   ### #    #  # "
     ]
    }
   ],
   "source": [
    "res = data\n",
    "for fold in folds:\n",
    "    if fold[0] == 'y':\n",
    "        ff = int(fold[1])\n",
    "        submatrixA = copy.copy( res[ 0:ff, 0: ] )\n",
    "        submatrixB = copy.copy( res[ ff+1:, 0: ] )\n",
    "        \n",
    "        yy = ff - 1\n",
    "        for ii in submatrixB:\n",
    "            submatrixA[yy] += ii\n",
    "            yy -= 1\n",
    "            if (yy < 0):\n",
    "                break\n",
    "        res = submatrixA\n",
    "    elif fold[0] == 'x':\n",
    "        ff = int(fold[1])\n",
    "        submatrixA = copy.copy( res[ 0:, 0:ff ] )\n",
    "        submatrixB = copy.copy( res[ 0:, ff+1: ] )\n",
    "        for yy in range(res.shape[0]):\n",
    "            xx = ff - 1\n",
    "            for ii in range(submatrixB.shape[1]):\n",
    "                submatrixA[yy][xx] += submatrixB[yy][ii]\n",
    "                xx -= 1\n",
    "                if (xx < 0):\n",
    "                    break\n",
    "        res = submatrixA\n",
    "    #break\n",
    "\n",
    "print(res)   \n",
    "print(len(numpy.argwhere(res > 0)))\n",
    "\n",
    "for ii in res:\n",
    "    print(\"\")\n",
    "    for jj in ii:\n",
    "        if jj > 0:\n",
    "            print(\"#\", end=\"\")\n",
    "        else:\n",
    "            print(\" \", end=\"\")\n",
    "\n",
    "\n",
    "    "
   ]
  }
 ],
 "metadata": {
  "interpreter": {
   "hash": "e800e88b5213248bce043b8ca1d9eeecab934fe1261eaa09a236f6d22060b375"
  },
  "kernelspec": {
   "display_name": "Python 3.7.6 64-bit ('base': conda)",
   "language": "python",
   "name": "python3"
  },
  "language_info": {
   "codemirror_mode": {
    "name": "ipython",
    "version": 3
   },
   "file_extension": ".py",
   "mimetype": "text/x-python",
   "name": "python",
   "nbconvert_exporter": "python",
   "pygments_lexer": "ipython3",
   "version": "3.7.6"
  },
  "orig_nbformat": 4
 },
 "nbformat": 4,
 "nbformat_minor": 2
}
