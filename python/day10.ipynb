{
 "cells": [
  {
   "cell_type": "code",
   "execution_count": 42,
   "metadata": {},
   "outputs": [],
   "source": [
    "with open(\"../dat/day10.txt\") as f:\n",
    "    data = [x.strip() for x in f.readlines() ]"
   ]
  },
  {
   "cell_type": "code",
   "execution_count": 6,
   "metadata": {},
   "outputs": [],
   "source": [
    "import collections"
   ]
  },
  {
   "cell_type": "code",
   "execution_count": 43,
   "metadata": {},
   "outputs": [
    {
     "name": "stdout",
     "output_type": "stream",
     "text": [
      "215229 1105996483\n"
     ]
    }
   ],
   "source": [
    "closing_pair = {\n",
    "    '(': ')',\n",
    "    '[': ']',\n",
    "    '{': '}',\n",
    "    '<': '>',\n",
    "}\n",
    "opening_pair = {\n",
    "    ')': '(',\n",
    "    ']': '[',\n",
    "    '}': '{',\n",
    "    '>': '<',\n",
    "}\n",
    "error_points = {\n",
    "    ')': 3,\n",
    "    ']': 57,\n",
    "    '}': 1197,\n",
    "    '>': 25137,\n",
    "}\n",
    "correction_points = {\n",
    "    ')': 1,\n",
    "    ']': 2,\n",
    "    '}': 3,\n",
    "    '>': 4,\n",
    "}\n",
    "def verify(line):\n",
    "    stack = collections.deque()\n",
    "    for cc in line:\n",
    "        if cc in closing_pair.keys():\n",
    "            stack.append(cc)\n",
    "        elif cc in closing_pair.values():\n",
    "            vv = closing_pair[ stack.pop() ]\n",
    "            if vv != cc:\n",
    "                #print(\"Expected %s but found %s instead\" % (vv, cc))\n",
    "                return cc, \"\"\n",
    "        else:\n",
    "            raise ValueError(\"invalid input\")\n",
    "\n",
    "    correction = []\n",
    "    while len(stack) > 0:\n",
    "        correction.append(closing_pair[stack.pop()])\n",
    "   \n",
    "    return None, \"\".join(correction)\n",
    "\n",
    "part1 = 0\n",
    "part2 = []\n",
    "for ll in data:\n",
    "    _part2 =  0\n",
    "    illegal_char, correction = verify(ll)\n",
    "    if illegal_char:\n",
    "        part1 += error_points[illegal_char]\n",
    "    if correction:\n",
    "        for vv in correction:\n",
    "            _part2 = (_part2 * 5) + correction_points[vv]\n",
    "        part2.append(_part2)\n",
    "        #print(ll, correction, _part2)\n",
    "\n",
    "part2.sort()\n",
    "ans2 = part2[len(part2) // 2]\n",
    "print(part1, ans2)"
   ]
  }
 ],
 "metadata": {
  "interpreter": {
   "hash": "e800e88b5213248bce043b8ca1d9eeecab934fe1261eaa09a236f6d22060b375"
  },
  "kernelspec": {
   "display_name": "Python 3.7.6 64-bit ('base': conda)",
   "language": "python",
   "name": "python3"
  },
  "language_info": {
   "codemirror_mode": {
    "name": "ipython",
    "version": 3
   },
   "file_extension": ".py",
   "mimetype": "text/x-python",
   "name": "python",
   "nbconvert_exporter": "python",
   "pygments_lexer": "ipython3",
   "version": "3.7.6"
  },
  "orig_nbformat": 4
 },
 "nbformat": 4,
 "nbformat_minor": 2
}
