{
 "cells": [
  {
   "cell_type": "code",
   "execution_count": 1,
   "metadata": {},
   "outputs": [],
   "source": [
    "with open(\"../dat/day7.txt\") as f:\n",
    "    crabs = f.readline()\n",
    "\n",
    "crabs = [ int(x.strip()) for x in crabs.split(\",\")]"
   ]
  },
  {
   "cell_type": "code",
   "execution_count": 2,
   "metadata": {},
   "outputs": [
    {
     "name": "stdout",
     "output_type": "stream",
     "text": [
      "1911\n",
      "(343605, 345)\n"
     ]
    }
   ],
   "source": [
    "max_pos = max(crabs)\n",
    "print(max_pos)\n",
    "least_fuel = (None, None)\n",
    "for pp in range(max_pos):\n",
    "    fuel_used = 0\n",
    "    for cc in crabs:\n",
    "        fuel_used += abs(cc - pp)\n",
    "    if least_fuel[0] is None or least_fuel[0] > fuel_used:\n",
    "        least_fuel = (fuel_used, pp)\n",
    "print(least_fuel)\n",
    "\n"
   ]
  },
  {
   "cell_type": "code",
   "execution_count": 19,
   "metadata": {},
   "outputs": [
    {
     "name": "stdout",
     "output_type": "stream",
     "text": [
      "(96744904, 475)\n"
     ]
    }
   ],
   "source": [
    "max_pos = max(crabs)\n",
    "least_fuel = (None, None)\n",
    "for pp in range(max_pos):\n",
    "    fuel_used = 0\n",
    "    for cc in crabs:\n",
    "        nn = abs(cc - pp) + 1\n",
    "        fuel_used += ( (nn*(nn - 1)) // 2)\n",
    "    if least_fuel[0] is None or least_fuel[0] > fuel_used:\n",
    "        least_fuel = (fuel_used, pp)\n",
    "print(least_fuel)\n"
   ]
  }
 ],
 "metadata": {
  "interpreter": {
   "hash": "e800e88b5213248bce043b8ca1d9eeecab934fe1261eaa09a236f6d22060b375"
  },
  "kernelspec": {
   "display_name": "Python 3.7.6 64-bit ('base': conda)",
   "language": "python",
   "name": "python3"
  },
  "language_info": {
   "codemirror_mode": {
    "name": "ipython",
    "version": 3
   },
   "file_extension": ".py",
   "mimetype": "text/x-python",
   "name": "python",
   "nbconvert_exporter": "python",
   "pygments_lexer": "ipython3",
   "version": "3.7.6"
  },
  "orig_nbformat": 4
 },
 "nbformat": 4,
 "nbformat_minor": 2
}
