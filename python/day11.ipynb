{
 "cells": [
  {
   "cell_type": "code",
   "execution_count": 1,
   "metadata": {},
   "outputs": [],
   "source": [
    "import numpy\n",
    "import scipy\n",
    "import scipy.ndimage\n",
    "import matplotlib.pyplot as plt\n",
    "import queue"
   ]
  },
  {
   "cell_type": "code",
   "execution_count": 58,
   "metadata": {},
   "outputs": [],
   "source": [
    "def load():\n",
    "    with open(\"../dat/day11.txt\") as f:\n",
    "        for ll in f:\n",
    "            energy = [ int(xx.strip()) for xx in ll.strip() ]\n",
    "            yield energy\n",
    "\n",
    "energy = numpy.array(list(load()))"
   ]
  },
  {
   "cell_type": "code",
   "execution_count": 54,
   "metadata": {},
   "outputs": [
    {
     "name": "stdout",
     "output_type": "stream",
     "text": [
      "[[1 2 3 9 9 0 0 0 0 9]\n",
      " [2 4 0 0 0 0 7 6 9 6]\n",
      " [3 0 0 0 0 7 4 3 3 6]\n",
      " [9 0 0 0 0 6 3 3 3 7]\n",
      " [9 4 0 0 0 7 4 4 4 7]\n",
      " [5 6 7 8 0 0 5 4 2 6]\n",
      " [9 4 4 5 7 0 9 9 6 5]\n",
      " [8 5 5 4 5 8 6 6 9 4]\n",
      " [9 0 8 6 9 6 5 5 7 4]\n",
      " [0 0 0 0 7 5 5 5 6 9]]\n",
      "1673\n"
     ]
    }
   ],
   "source": [
    "def adjacent(xx, yy, ww, hh):\n",
    "    for ii in (-1, 0, 1):\n",
    "        for jj in (-1, 0, 1):\n",
    "            if ii == 0 and jj == 0:\n",
    "                continue\n",
    "            x = xx + ii\n",
    "            y = yy + jj\n",
    "            if x < 0 or y < 0:\n",
    "                continue\n",
    "            elif x >= ww or y >= hh:\n",
    "                continue\n",
    "            yield x, y\n",
    "\n",
    "def step(energy):\n",
    "    num_flashes = 0\n",
    "    energy = energy + 1\n",
    "    flashers = list( numpy.argwhere(energy > 9) )\n",
    "    while len(flashers) > 0:\n",
    "        num_flashes += 1\n",
    "        yy, xx = flashers.pop(0)\n",
    "        for y, x in adjacent(yy, xx, energy.shape[0], energy.shape[1]):\n",
    "            if energy[y][x] < 9:\n",
    "                energy[y][x] += 1\n",
    "            elif energy[y][x] == 9:\n",
    "                energy[y][x] = 10\n",
    "                flashers.append((y, x))\n",
    "    \n",
    "    flashers = numpy.argwhere(energy > 9)\n",
    "    for yy, xx in flashers:\n",
    "        energy[yy][xx] = 0\n",
    "\n",
    "    return energy, num_flashes\n",
    "\n",
    "total_flashes = 0\n",
    "for ii in range(100):\n",
    "    energy, num_flashes = step(energy)\n",
    "    total_flashes += num_flashes\n",
    "print(energy)\n",
    "print(total_flashes)"
   ]
  },
  {
   "cell_type": "code",
   "execution_count": 59,
   "metadata": {},
   "outputs": [
    {
     "name": "stdout",
     "output_type": "stream",
     "text": [
      "[[0 0 0 0 0 0 0 0 0 0]\n",
      " [0 0 0 0 0 0 0 0 0 0]\n",
      " [0 0 0 0 0 0 0 0 0 0]\n",
      " [0 0 0 0 0 0 0 0 0 0]\n",
      " [0 0 0 0 0 0 0 0 0 0]\n",
      " [0 0 0 0 0 0 0 0 0 0]\n",
      " [0 0 0 0 0 0 0 0 0 0]\n",
      " [0 0 0 0 0 0 0 0 0 0]\n",
      " [0 0 0 0 0 0 0 0 0 0]\n",
      " [0 0 0 0 0 0 0 0 0 0]]\n",
      "8282\n",
      "505\n"
     ]
    }
   ],
   "source": [
    "total_flashes = 0\n",
    "steps = 0\n",
    "while True:\n",
    "    steps += 1\n",
    "    energy, num_flashes = step(energy)\n",
    "    total_flashes += num_flashes\n",
    "    if numpy.count_nonzero(energy) == 0:\n",
    "        break\n",
    "print(energy)\n",
    "print(total_flashes)\n",
    "print(steps)"
   ]
  }
 ],
 "metadata": {
  "interpreter": {
   "hash": "e800e88b5213248bce043b8ca1d9eeecab934fe1261eaa09a236f6d22060b375"
  },
  "kernelspec": {
   "display_name": "Python 3.7.6 64-bit ('base': conda)",
   "language": "python",
   "name": "python3"
  },
  "language_info": {
   "codemirror_mode": {
    "name": "ipython",
    "version": 3
   },
   "file_extension": ".py",
   "mimetype": "text/x-python",
   "name": "python",
   "nbconvert_exporter": "python",
   "pygments_lexer": "ipython3",
   "version": "3.7.6"
  },
  "orig_nbformat": 4
 },
 "nbformat": 4,
 "nbformat_minor": 2
}
