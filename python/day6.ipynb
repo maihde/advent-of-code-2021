{
 "cells": [
  {
   "cell_type": "code",
   "execution_count": 16,
   "metadata": {},
   "outputs": [],
   "source": [
    "from matplotlib import pyplot as plt "
   ]
  },
  {
   "cell_type": "code",
   "execution_count": null,
   "metadata": {},
   "outputs": [],
   "source": [
    "with open(\"../dat/day6.txt\") as f:\n",
    "    fish = f.readline() # only one line\n",
    "fish = [ int(x.strip()) for x in fish.split(\",\") ]"
   ]
  },
  {
   "cell_type": "code",
   "execution_count": 18,
   "metadata": {},
   "outputs": [
    {
     "name": "stdout",
     "output_type": "stream",
     "text": [
      "After 80 days: 374927\n",
      "After 256 days: 1687617803407\n"
     ]
    }
   ],
   "source": [
    "class FishTank:\n",
    "    def __init__(self, initial_fish):\n",
    "        self.spawning = [ 0 ] * 10\n",
    "        self.total_fish = 0\n",
    "        for ff in initial_fish:\n",
    "            self.total_fish += 1\n",
    "            self.spawning[ff] += 1\n",
    "\n",
    "    def spawn(self, days):\n",
    "        for dd in range(days):\n",
    "            # See how many births will happen\n",
    "            births = self.spawning[0]\n",
    "            # shift all spawns down one\n",
    "            for ii in range(1,10):\n",
    "                self.spawning[ii-1] = self.spawning[ii]\n",
    "            # Create babies and parents\n",
    "            self.spawning[6] += births\n",
    "            self.spawning[8] += births\n",
    "            self.total_fish += births\n",
    "            # Yield back intermediate values\n",
    "            yield (dd+1, self.total_fish)\n",
    "\n",
    "tank = FishTank(fish)\n",
    "for dd, tc in tank.spawn(256):\n",
    "    if dd in (80, 256):\n",
    "        print(\"After %d days: %d\" % (dd, tc))"
   ]
  },
  {
   "cell_type": "code",
   "execution_count": null,
   "metadata": {},
   "outputs": [],
   "source": [
    "plt.plot()"
   ]
  }
 ],
 "metadata": {
  "interpreter": {
   "hash": "e800e88b5213248bce043b8ca1d9eeecab934fe1261eaa09a236f6d22060b375"
  },
  "kernelspec": {
   "display_name": "Python 3.7.6 64-bit ('base': conda)",
   "language": "python",
   "name": "python3"
  },
  "language_info": {
   "codemirror_mode": {
    "name": "ipython",
    "version": 3
   },
   "file_extension": ".py",
   "mimetype": "text/x-python",
   "name": "python",
   "nbconvert_exporter": "python",
   "pygments_lexer": "ipython3",
   "version": "3.7.6"
  },
  "orig_nbformat": 4
 },
 "nbformat": 4,
 "nbformat_minor": 2
}
