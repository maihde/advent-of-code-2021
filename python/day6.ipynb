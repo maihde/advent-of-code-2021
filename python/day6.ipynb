{
 "cells": [
  {
   "cell_type": "code",
   "execution_count": 12,
   "metadata": {},
   "outputs": [],
   "source": [
    "with open(\"../dat/day6.txt\") as f:\n",
    "    fish = f.readline()\n",
    "\n",
    "fish = [ int(x.strip()) for x in fish.split(\",\")]"
   ]
  },
  {
   "cell_type": "code",
   "execution_count": 14,
   "metadata": {},
   "outputs": [
    {
     "name": "stdout",
     "output_type": "stream",
     "text": [
      "1687617803407\n"
     ]
    }
   ],
   "source": [
    "# TODO think of something creative to demonstrate here\n",
    "spawning = [ 0 ] * 10\n",
    "for ff in fish:\n",
    "    spawning[ff] += 1\n",
    "\n",
    "days = 256\n",
    "for dd in range(days):\n",
    "    births = spawning[0]\n",
    "    for ii in range(1,10):\n",
    "        spawning[ii-1] = spawning[ii]\n",
    "    spawning[6] += births\n",
    "    spawning[8] += births\n",
    "\n",
    "print(sum(spawning))"
   ]
  }
 ],
 "metadata": {
  "interpreter": {
   "hash": "e800e88b5213248bce043b8ca1d9eeecab934fe1261eaa09a236f6d22060b375"
  },
  "kernelspec": {
   "display_name": "Python 3.7.6 64-bit ('base': conda)",
   "language": "python",
   "name": "python3"
  },
  "language_info": {
   "codemirror_mode": {
    "name": "ipython",
    "version": 3
   },
   "file_extension": ".py",
   "mimetype": "text/x-python",
   "name": "python",
   "nbconvert_exporter": "python",
   "pygments_lexer": "ipython3",
   "version": "3.7.6"
  },
  "orig_nbformat": 4
 },
 "nbformat": 4,
 "nbformat_minor": 2
}
