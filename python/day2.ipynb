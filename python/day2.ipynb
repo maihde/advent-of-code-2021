{
 "cells": [
  {
   "cell_type": "markdown",
   "metadata": {},
   "source": [
    "# Day 2\n",
    "Demonstrate the use of regular expressions and dynamic lookup of functions"
   ]
  },
  {
   "cell_type": "code",
   "execution_count": 1,
   "metadata": {},
   "outputs": [],
   "source": [
    "# Run this cell to solve the actual problem\n",
    "with open(\"../dat/day2.txt\") as f:\n",
    "    lines = f.readlines()"
   ]
  },
  {
   "cell_type": "code",
   "execution_count": 8,
   "metadata": {},
   "outputs": [
    {
     "name": "stdout",
     "output_type": "stream",
     "text": [
      "Part 1 1815044\n",
      "Part 2 1739283308\n"
     ]
    }
   ],
   "source": [
    "import re\n",
    "from collections import namedtuple\n",
    "\n",
    "cmd_re = re.compile(\"^(\\w+)\\s+(\\d+)$\")\n",
    "\n",
    "class Sub(object):\n",
    "    def __init__(self, mode):\n",
    "        self.pos = {\"x\": 0, \"z\": 0, \"aim\": 0}\n",
    "        if mode not in (\"aim\", \"vertical\"):\n",
    "            raise ValueError(\"invalid mode %s\" % mode)\n",
    "        self.mode = mode\n",
    "\n",
    "    def cmd_forward(self, amt):\n",
    "        self.pos[\"x\"] += amt\n",
    "        if self.mode == \"aim\":\n",
    "            self.pos[\"z\"] += (amt * self.pos[\"aim\"])\n",
    "\n",
    "    def cmd_up(self, amt):\n",
    "        if self.mode == \"vertical\":\n",
    "            self.pos[\"z\"] -= amt\n",
    "        elif self.mode == \"aim\":\n",
    "            self.pos[\"aim\"] -= amt\n",
    "\n",
    "    def cmd_down(self, amt):\n",
    "        if self.mode == \"vertical\":\n",
    "            self.pos[\"z\"] += amt\n",
    "        elif self.mode == \"aim\":\n",
    "            self.pos[\"aim\"] += amt\n",
    "    \n",
    "    def read_commands(self, lines):\n",
    "        for line in lines:\n",
    "            cmd = cmd_re.match(line)\n",
    "            if cmd:\n",
    "                action = getattr(self, \"cmd_%s\" % cmd.group(1))\n",
    "                if callable(action):\n",
    "                    action(int(cmd.group(2)))\n",
    "                else:\n",
    "                    raise ValueError(\"invalid command %s\" % cmd.group(1))\n",
    "\n",
    "            \n",
    "\n",
    "s = Sub(\"vertical\")\n",
    "s.read_commands(lines)\n",
    "print(\"Part 1\", s.pos['x'] * s.pos['z'])\n",
    "\n",
    "s = Sub(\"aim\")\n",
    "s.read_commands(lines)\n",
    "print(\"Part 2\", s.pos['x'] * s.pos['z'])\n",
    "\n"
   ]
  }
 ],
 "metadata": {
  "interpreter": {
   "hash": "5b3ded1ccb95c1d9bd405e7b823d9e85424cde40fbb5985eb47e999ef50e15b4"
  },
  "kernelspec": {
   "display_name": "Python 3.8.0 64-bit",
   "language": "python",
   "name": "python3"
  },
  "language_info": {
   "codemirror_mode": {
    "name": "ipython",
    "version": 3
   },
   "file_extension": ".py",
   "mimetype": "text/x-python",
   "name": "python",
   "nbconvert_exporter": "python",
   "pygments_lexer": "ipython3",
   "version": "3.7.6"
  },
  "orig_nbformat": 4
 },
 "nbformat": 4,
 "nbformat_minor": 2
}
